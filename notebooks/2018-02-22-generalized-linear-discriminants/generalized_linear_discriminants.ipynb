{
 "cells": [
  {
   "cell_type": "markdown",
   "metadata": {},
   "source": [
    "# Generalized linear discriminants\n",
    "\n",
    "In the last post we saw that the least-squares-method could fit simple datasets, but struggled as soon as, for example, outliers came into play."
   ]
  },
  {
   "cell_type": "markdown",
   "metadata": {},
   "source": [
    "$$\n",
    "    w_0 + w_1 \\cdot x_1 + w_2 \\cdot x_2 + w_3 \\cdot x_1^2 + w_4 \\cdot x_2^2 + w_5 \\cdot x_1 \\cdot x_2 \\\\\n",
    "    = \\\\\n",
    "    v_0 + v_1 \\cdot x_1 + v_2 \\cdot x_2 + v_3 \\cdot x_1^2 + v_4 \\cdot x_2^2 + v_5 \\cdot x_1 \\cdot x_2 \\\\\n",
    "    \\iff \\\\\n",
    "    w_0 + w_1 \\cdot x_1 + w_3 \\cdot x_1^2 - v_0 + v_1 \\cdot x_1 - v_3 \\cdot x_1^2 = v_2 \\cdot x_2 + v_4 \\cdot x_2^2 + v_5 \\cdot x_1 \\cdot x_2 - w_2 \\cdot x_2 - w_4 \\cdot x_2^2 - w_5 \\cdot x_1 \\cdot x_2 \\\\\n",
    "    \\iff \\\\\n",
    "    x_1^2(w_3 - v_3) + x_1(w_1 - v_1) + (w_0 - v_0) = x_2^2(v_4 - w_4) + x_2(v_2 - w_2 + x_1 \\cdot (v_5 - w_5))\n",
    "    \\iff \\\\\n",
    "    \\frac{x_1^2(w_3 - v_3) + x_1(w_1 - v_1) + (w_0 - v_0)}{(v_4 - w_4)} = x_2^2 + x_2\\frac{(v_2 - w_2 + x_1 \\cdot (v_5 - w_5))}{(v_4 - w_4)}\n",
    "    \\iff \\\\\n",
    "    \\pm \\sqrt{\\frac{x_1^2(w_3 - v_3) + x_1(w_1 - v_1) + (w_0 - v_0)}{(v_4 - w_4)} + (\\frac{(v_2 - w_2 + x_1 \\cdot (v_5 - w_5))}{2\\cdot(v_4 - w_4)})^2} = x_2 + \\frac{(v_2 - w_2 + x_1 \\cdot (v_5 - w_5))}{2\\cdot(v_4 - w_4)}\n",
    "    \\iff \\\\\n",
    "    x_2 = \\pm \\sqrt{\\frac{x_1^2(w_3 - v_3) + x_1(w_1 - v_1) + (w_0 - v_0)}{(v_4 - w_4)} + (\\frac{(v_2 - w_2 + x_1 \\cdot (v_5 - w_5))}{2\\cdot(v_4 - w_4)})^2} - \\frac{(v_2 - w_2 + x_1 \\cdot (v_5 - w_5))}{2\\cdot(v_4 - w_4)}\n",
    "$$"
   ]
  },
  {
   "cell_type": "code",
   "execution_count": 21,
   "metadata": {},
   "outputs": [
    {
     "data": {
      "text/plain": [
       "[<matplotlib.lines.Line2D at 0x7f396130dfd0>]"
      ]
     },
     "execution_count": 21,
     "metadata": {},
     "output_type": "execute_result"
    },
    {
     "data": {
      "image/png": "[encoded data removed]",
      "text/plain": [
       "<matplotlib.figure.Figure at 0x7f3961bb1748>"
      ]
     },
     "metadata": {},
     "output_type": "display_data"
    }
   ],
   "source": [
    "import numpy as np\n",
    "import matplotlib.pyplot as plt\n",
    "%matplotlib inline\n",
    "\n",
    "def ring_sample_data(radius, variance, num_points):\n",
    "    z = np.random.uniform(low=0, high=2*np.pi, size=num_points)\n",
    "    r = np.random.normal(loc=radius, scale=variance, size=num_points)\n",
    "    X = np.zeros((num_points, 2))\n",
    "    X[:,0] = np.cos(z) * r\n",
    "    X[:,1] = np.sin(z) * r\n",
    "    return X\n",
    "\n",
    "X_pos = ring_sample_data(3, 0.3, 100)\n",
    "T_pos = np.tile([1,0], (100, 1))\n",
    "X_neg = ring_sample_data(0.8, 0.3, 100)\n",
    "T_neg = np.tile([0,1], (100, 1))\n",
    "X = np.concatenate((X_pos, X_neg))\n",
    "T = np.concatenate((T_pos, T_neg))\n",
    "\n",
    "plt.scatter(X_pos[:,0], X_pos[:,1], marker=\"x\", color=\"b\")\n",
    "plt.scatter(X_neg[:,0], X_neg[:,1], marker=\"o\", color=\"r\")\n",
    "\n",
    "def phi_6(X):\n",
    "    Phi = np.ones((X[:,0].size, 6))\n",
    "    Phi[:,1] = X[:,0]\n",
    "    Phi[:,2] = X[:,1]\n",
    "    Phi[:,3] = np.square(X[:,0])\n",
    "    Phi[:,4] = np.square(X[:,1])\n",
    "    Phi[:,5] = X[:,0] * X[:,1]\n",
    "    return Phi\n",
    "\n",
    "Phi = phi_6(X)\n",
    "W = np.linalg.pinv(Phi) @ T\n",
    "w, v = W[:,0], W[:,1]\n",
    "x = np.arange(-5, 5, 0.0001)\n",
    "delta = (2 * (np.square(x) * (w[3] - v[3]) + x * (w[1] - v[1]) + (w[0] - v[0])) + (v[2] - w[2] + x * (v[5] - w[5]))) \n",
    "delta /= 2 * (v[4] - w[4])\n",
    "y = np.zeros(x.size)\n",
    "\n",
    "xs = []\n",
    "y1s = []\n",
    "y2s = []\n",
    "for i in range(len(x)):\n",
    "    if delta[i] < 0:\n",
    "        continue\n",
    "    y1 = np.sqrt(delta[i]) - (v[2]-w[2] + x[i]*(v[5] - w[5])) / (2 * (v[4] - w[4]))\n",
    "    y2 = -np.sqrt(delta[i]) - (v[2]-w[2] + x[i]*(v[5] - w[5])) / (2 * (v[4] - w[4]))\n",
    "    xs.append(x[i])\n",
    "    y1s.append(y1)\n",
    "    y2s.append(y2)\n",
    "\n",
    "plt.plot(xs, y1s, color=\"black\")\n",
    "plt.plot(xs, y2s, color=\"orange\")"
   ]
  },
  {
   "cell_type": "markdown",
   "metadata": {},
   "source": [
    "## General linear discriminant functions\n",
    "\n",
    "Idea: transform the vector $x$ with a nonlinear function $\\phi$ before building its linear combination. In this case, lets try the following function:\n",
    "$$\n",
    "    \\phi: \\mathbb{R}^2 \\rightarrow \\mathbb{R}^6 \\quad \\quad\n",
    "    \\begin{pmatrix}\n",
    "    x_1 \\\\ \n",
    "    x_2\\end{pmatrix}\n",
    "    \\mapsto \n",
    "    \\begin{pmatrix}\n",
    "    1 \\\\\n",
    "    x_1 \\\\\n",
    "    x_2 \\\\\n",
    "    x_1^2\\\\\n",
    "    x_2^2\\\\\n",
    "    x_1 \\cdot x_2\n",
    "    \\end{pmatrix}\n",
    "$$\n",
    "\n",
    "As before, we multiply this transformed vector $\\phi(x)$ with a weight vector $w_k \\in \\mathbb{R}^6$:\n",
    "$$\n",
    "    y_k(x; w_k) = w_k^T \\cdot \\phi(x)\n",
    "$$\n",
    "\n",
    "However, we now have the problem that we cannot simply use the least-squared method to find the optimal weight matrix. Instead, we have to use an iterative procedure to improve upon our weights over time. However, we still want to minimize the squared error:\n",
    "$$\n",
    "    E(w) = \\sum_{n=1}^N E_n(w) =  \\frac{1}{2} \\sum_{n=1}^N \\sum_{k=1}^K (y_k(x_n; w_k) - t_{n,k})^2 \\\\\n",
    "        = \\frac{1}{2} \\sum_{n=1}^N \\sum_{k=1}^K (w_k^T \\cdot \\phi(x) - t_{n,k})^2\n",
    "$$\n",
    "\n",
    "## Gradient descent\n",
    "\n",
    "To minimize this function, we will start with some guess of the weight $w_{k,j}^{(0)}$ and improve upon it by following the gradient of $E$ with respect to $w_{k,j}$:\n",
    "\n",
    "$$\n",
    "w_{k,j}^{(t+1)} = w_{k,j}^{(t)} - \\eta \\cdot \\frac{\\partial E(w)}{\\partial w_{k,j}}|_{w^{(t)}}\n",
    "$$\n",
    "\n",
    "We refer to the parameter $\\eta$ as the learning rate of the gradient descent.\n",
    "\n",
    "Let us now derive the update equations in detail, when $E_n(w)$ is defined as above:\n",
    "$$\n",
    "    \\frac{\\partial E_n(w)}{\\partial w_{k,j}} = \\frac{\\partial}{\\partial w_{k,j}} \\frac{1}{2}  \\sum_{\\tilde{k}=1}^K  (w_\\tilde{k}^T \\cdot \\phi(x_n) - t_{n,\\tilde{k}})^2 \\\\\n",
    "    = \\frac{\\partial}{\\partial w_{k,j}} \\frac{1}{2}  (w_k^T \\cdot \\phi(x_n) - t_{n,k})^2 \\\\\n",
    "    = (w_k^T \\cdot \\phi(x_n) - t_{n,k}) \\cdot \\phi_j(x_n) \\\\\n",
    "$$\n",
    "\n",
    "Now, if we put all the entries $w_{k,j}$ together, we get the derivative of $E_n(w)$ with respect to the weight matrix $W = \\begin{pmatrix}w_1 & w_2\\end{pmatrix} \\in \\mathbb{R}^{6 \\times 2}$\n",
    "$$\n",
    "    \\frac{\\partial E_n(w)}{\\partial W} = \\phi(x_n) \\phi(x_n)^T W - \\phi(x_n) t_n^T\n",
    "$$\n",
    "By summing over the $x_i$, we can derive the following equation:\n",
    "$$\n",
    "    \\frac{\\partial E(w)}{\\partial W} = \\sum_{n=1}^N \\frac{\\partial E_n(w)}{\\partial W} \\\\\n",
    "    = \\sum_{n=1}^N \\phi(x_n) \\phi(x_n)^T W - \\phi(x_n) t_n^T\n",
    "$$"
   ]
  },
  {
   "cell_type": "code",
   "execution_count": 111,
   "metadata": {},
   "outputs": [
    {
     "data": {
      "text/plain": [
       "91802.05365023369"
      ]
     },
     "execution_count": 111,
     "metadata": {},
     "output_type": "execute_result"
    }
   ],
   "source": [
    "# maps a vector x \\in \\mathbb{R}^2 to x' \\in \\mathbb{R}^6\n",
    "# the j-th entriy of the result vector can be seen as \\phi_j(x)\n",
    "def phi(x):\n",
    "    return np.array([1, x[0], x[1], x[0]**2, x[1]**2, x[0]*x[1]])\n",
    "\n",
    "def error(X, W):\n",
    "    return np.sum(np.square(X @ W))\n",
    "\n",
    "X = np.array(list(map(lambda x: phi(x), X[:,1:])))\n",
    "W = np.random.normal(loc=0, scale=0.2, size=(6,2))\n",
    "eta = 0.0001\n",
    "N, D = X.shape\n",
    "\n",
    "for _ in range(1000):\n",
    "    dW = np.zeros((6,2))\n",
    "    for n in range(N):\n",
    "        phi_n = X[n,:]\n",
    "        t_n = T[n,:]\n",
    "        dW += np.square(phi_n) @ W - np.outer(phi_n, t_n)\n",
    "    W -= eta * dW\n",
    "\n",
    "error(X, W)"
   ]
  }
 ],
 "metadata": {
  "kernelspec": {
   "display_name": "Python 3",
   "language": "python",
   "name": "python3"
  },
  "language_info": {
   "codemirror_mode": {
    "name": "ipython",
    "version": 3
   },
   "file_extension": ".py",
   "mimetype": "text/x-python",
   "name": "python",
   "nbconvert_exporter": "python",
   "pygments_lexer": "ipython3",
   "version": "3.6.4"
  }
 },
 "nbformat": 4,
 "nbformat_minor": 2
}
