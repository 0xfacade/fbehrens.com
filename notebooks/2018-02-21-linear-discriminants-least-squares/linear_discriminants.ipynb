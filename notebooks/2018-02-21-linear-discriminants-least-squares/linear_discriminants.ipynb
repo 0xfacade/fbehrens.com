{
 "cells": [
  {
   "cell_type": "markdown",
   "metadata": {},
   "source": [
    "# Linear discriminants and the least-squares method\n",
    "\n",
    "Let's say we have a classification problem of $K$ classes. That is: for any given data point $x \\in \\mathbb{R}^D$, we want to decide to which class $k \\in \\underline{K}$ $x$ belongs. We are given a training set $x_1, \\dots, x_N$, $x_i \\in \\mathbb{R}^D$ along their labels $t_1, \\dots, t_N$ where $t_i \\in \\{0,1\\}^K$, $(t_i)_j = 1 \\iff x_i \\text{ belongs to class } j$.\n",
    "\n",
    "Obviously, we want to use the examples we have been given to estimate a function $r: \\mathbb{R}^D \\rightarrow \\{0, 1\\}$ that classifies any given data point as well as possible. How can we do this?\n",
    "\n",
    "## Discriminant functions\n",
    "\n",
    "One approach is to define what is called a discriminant function per possible class. A discriminant function for class $k \\in \\underline{K}$ is simply a function $y_k: \\mathbb{R}^D \\rightarrow \\mathbb{R}$. To classify a point $x \\in \\mathbb{R}^D$, we choose the class $k$ whose discriminant function yields the heighest value: $$\n",
    "    r: \\mathbb{R}^D \\rightarrow \\underline{K}, x \\mapsto \\underset{k}{\\operatorname{argmax}}\\{y_k(x)\\}\n",
    "$$\n",
    "\n",
    "## Linear discriminant functions\n",
    "\n",
    "We haven't yet specified what kind of function the discriminants should be. In principle, we could use anything. For the beginning, we focus on simple linear functions:\n",
    "$$y_k(x) = w_k^T \\cdot x + w_{k,0} = w_{k,D} \\cdot x_D + \\dots + w_{k,1} \\cdot x_1 + w_{k,0}$$\n",
    "where $w_k \\in \\mathbb{R}^D$ is referred to as the weight vector and $w_{k,0} \\in \\mathbb{R}$ is referred to as bias term. Note that we could simplify this equation by setting $x_0 = 1$, thereby increasing the dimension of our $x$ by one and considering $w_{k,0}$ as another entry in the weight vector.\n",
    "\n",
    "## Learning linear discriminant functions: the least-squares method\n",
    "\n",
    "How could we go about learning a set of linear discriminant functions such that the error we make is minimized? Well, first we need to define what we mean by error. Notice that the error we make on a given training set $x_1, \\dots, x_n$ with target vectors $t_1, \\dots, t_n$ should be measured in terms of the weights $w_1, \\dots, w_K$ of the $K$ discriminant functions $y_k$, as we plan to improve upon the weights and thus need to have a way of telling how \"good\" a certain set of weight vectors is.\n",
    "\n",
    "When we use the least-squares-method of approximating the discriminant functions, we sum up the squared errors of classifying any point in the dataset with any discriminant function. Here is the formal definition:\n",
    "$$\n",
    "E(w_1, \\dots, w_k \\ | \\ x_1, t_1, \\dots , x_N, t_N) = \\sum_{n=1}^N \\sum_{k=1}^K ( y_k(x_n) - t_{n,k} )^2 \\\\\n",
    "    = \\sum_{n=1}^N \\sum_{k=1}^K ( w_k^T \\cdot x_n - t_{n,k} )^2\n",
    "$$\n",
    "\n",
    "Now, how can we minimize this error? The same way we have been minimizing functions in high school. We find the derivative with respect to the weight vectors and set it to zero. From that we can derive a minimizing condition. We could do this by taking the derivative of $E$ with respect to an arbitrary weight vector entry $w_{k,i}$, but that would take a lot of sum signs and indices. Instead, let us restate the problem as a matrix equation.\n",
    "\n",
    "Let $W = \\begin{pmatrix}w_1 \\dots w_K\\end{pmatrix} \\in \\mathbb{R}^{(D+1) \\times K}$ be the matrix of our adapted weight vectors. Then $y_k(x) = (W^T \\cdot x)_k$. We can thus define\n",
    "$$\n",
    "    y(x) = W^T \\cdot x = \\begin{pmatrix}y_1(x) \\\\ \\dots \\\\ y_K(x)\\end{pmatrix}\n",
    "$$\n",
    "If we evaluate $y(x_i)$ for a vector $x_i$ in the training set, we can set the goal that it should approximate the corresponding target vector $t_i$; that is: if $x_i$ belongs to class $k$, all entries of $y(x_i)$ that are not the $k$-th entry should be close to zero, and the $k$-th entry should be close to 1.\n",
    "\n",
    "If we set the matrix $X = \\begin{pmatrix} x_1^T \\\\ \\dots \\\\ x_N^T\\end{pmatrix} \\in \\mathbb{R}^{N \\times (D+1)}$, we can evaluate $y(x_n)$ for all $n \\in \\underline{N}$ simultaneously:\n",
    "$$\n",
    "    W^T \\cdot X^T = \\begin{pmatrix}y_1(x_1) \\dots y_1(x_N)\\\\ \\dots \\\\ y_K(x_1) \\dots y_K(x_N)\\end{pmatrix} \\overset{!}{=} \\begin{pmatrix}t_1 \\dots t_N\\end{pmatrix}\n",
    "$$\n",
    "or, equivalently\n",
    "$$\n",
    "    X \\cdot W = \\begin{pmatrix}y_1(x_1) \\dots y_K(x_1)\\\\ \\dots \\\\ y_1(x_N) \\dots y_K(x_N)\\end{pmatrix} \\overset{!}= \\begin{pmatrix}t_1^T \\\\ \\vdots \\\\ t_N^T\\end{pmatrix} =: T\n",
    "$$\n",
    "where $X \\cdot W \\overset{!}= T$ is supposed to mean that we want $X \\cdot W$ to be equal to $T$.\n",
    "\n",
    "Now let us express the least-squares criterion in matrix notation. We use $\\odot$ to denote the elementwise multiplication of two matrices.\n",
    "$$\n",
    "    E(W) = \\frac{1}{2} \\cdot \\sum_{i,j} [(XW - T) \\odot (XW - T)]_{i,j}\n",
    "$$\n",
    "We square every entry of the matrix $XW - T$ and sum all the entries of the resulting matrix. Using the identity $\\sum_{i,j} a_{i,j}^2 = Tr(A^T \\cdot A)$, where $Tr$ denotes the matrix trace (sum of the diagonal entries), we arrive at\n",
    "$$\n",
    "    E(W) = \\frac{1}{2} \\cdot Tr[(XW-T)^T \\cdot (XW-T)]\n",
    "$$\n",
    "Let us now find the derivative with respect to the weights:\n",
    "$$\n",
    "    \\frac{\\partial E(W)}{\\partial W} = \\frac{1}{2} \\frac{\\partial}{\\partial W} \\cdot Tr[(XW-T)^T \\cdot (XW-T)] \\\\\n",
    "    = \\frac{1}{2} \\frac{\\partial (XW-T)^T \\cdot (XW-T)}{\\partial W} \\cdot \\frac{\\partial Tr[(XW-T)^T \\cdot (XW-T)]}{\\partial (XW-T)^T \\cdot (XW-T)} \\\\\n",
    "    = X^T \\cdot (XW - T)\n",
    "$$\n",
    "\n",
    "To find a minimum, we set this derivative to zero:\n",
    "$$\n",
    "X^T \\cdot (XW - T) = 0\n",
    "$$\n",
    "As we assume that $X \\not= 0$, this is equivalent to\n",
    "$$\n",
    "    XW = T \\\\\n",
    "    \\iff X^T \\cdot X \\cdot W = X^T \\cdot T \\\\\n",
    "    \\iff W = \\underbrace{(X^T \\cdot X)^{-1} \\cdot X^T}_{\\text{pseudo-inverse } X^\\dagger} \\cdot T\n",
    "$$\n",
    "\n",
    "We have thus found a direct expression for $W$ minimizing the squared error criterion! (Okay, we haven't verified that this is actually an optimum, but we could..)\n",
    "\n",
    "Let us now try to use this result by applying it to a toy example."
   ]
  },
  {
   "cell_type": "markdown",
   "metadata": {},
   "source": [
    "## Experimenting with the least-squares method\n",
    "\n",
    "We start of by generating two clusters of points in $\\mathbb{R}^2$, drawn from independent Gaussian distributions."
   ]
  },
  {
   "cell_type": "code",
   "execution_count": 194,
   "metadata": {},
   "outputs": [
    {
     "data": {
      "text/plain": [
       "<matplotlib.collections.PathCollection at 0x7f0e82b9b358>"
      ]
     },
     "execution_count": 194,
     "metadata": {},
     "output_type": "execute_result"
    },
    {
     "data": {
      "image/png": "[encoded data removed]",
      "text/plain": [
       "<matplotlib.figure.Figure at 0x7f0e82dff3c8>"
      ]
     },
     "metadata": {},
     "output_type": "display_data"
    }
   ],
   "source": [
    "%matplotlib inline\n",
    "import matplotlib.pyplot as plt\n",
    "import numpy as np\n",
    "\n",
    "sampleSize = 50\n",
    "\n",
    "meanA = np.array([0, 0])\n",
    "varianceA = np.array([0.3, 0.5])\n",
    "samplesA = np.random.normal(meanA, varianceA, (sampleSize, 2))\n",
    "\n",
    "meanB = np.array([2, -2])\n",
    "varianceB = np.array([0.2, 0.2])\n",
    "samplesB = np.random.normal(meanB, varianceB, (sampleSize, 2))\n",
    "\n",
    "fig = plt.figure()\n",
    "ax = fig.add_subplot(111)\n",
    "plt.xlim([-3, 3])\n",
    "plt.ylim([-3, 3])\n",
    "\n",
    "ax.scatter([x for [x, y] in samplesA], [y for [x, y] in samplesA], marker=\"x\", color=\"b\")\n",
    "ax.scatter([x for [x, y] in samplesB], [y for [x, y] in samplesB], marker=\"o\", color=\"r\")"
   ]
  },
  {
   "cell_type": "markdown",
   "metadata": {},
   "source": [
    "We now want to find linear discriminants $y_0$ and $y_1$ that classify all points in $\\mathbb{R}^2$ as belonging to either the blue set of points or the red set of points. How can we visualize these discriminant functions? We can try to find the set of points $\\{ x \\in \\mathbb{R}^2 | y_0(x) = y_1(x) \\}$! As the discriminant functions are linear, the solution will be a subspace of $\\mathbb{R}^2$. In particular, it will be a straight line! Suppose we are given the weight vectors $w, v \\in \\mathbb{R}^3$ of $y_0$ and $y_1$. How can we compute this decision boundary?\n",
    "\n",
    "$$\n",
    "    y_0(x) = w^T \\cdot x = v^T \\cdot x = y_1(x) \\\\\n",
    "    \\iff w_0 + w_1 \\cdot x_1 + w_2 \\cdot x_2 = v_0 + v_1 \\cdot x_1 + v_2 \\cdot x_2 \\\\\n",
    "    \\iff x_2 = \\frac{w_0 - v_0 + x_1 \\cdot (w_1 - v_1)}{v_2 - w_2}\n",
    "$$\n",
    "Let's do this!"
   ]
  },
  {
   "cell_type": "code",
   "execution_count": 195,
   "metadata": {},
   "outputs": [
    {
     "data": {
      "image/png": "[encoded data removed]",
      "text/plain": [
       "<matplotlib.figure.Figure at 0x7f0e82dff3c8>"
      ]
     },
     "execution_count": 195,
     "metadata": {},
     "output_type": "execute_result"
    }
   ],
   "source": [
    "# add the 1s to the x vectors so that we can encode the bias as a weight\n",
    "Xa = np.ones((sampleSize, 3))\n",
    "Xa[:,1:] = samplesA\n",
    "Xb = np.ones((sampleSize, 3))\n",
    "Xb[:,1:] = samplesB\n",
    "\n",
    "# build the complete data matrix X by concatenating Xa and Xb\n",
    "X = np.concatenate((Xa, Xb))\n",
    "\n",
    "# build the according target vectors\n",
    "Ta = np.tile([1,0], (sampleSize, 1))\n",
    "Tb = np.tile([0,1], (sampleSize, 1))\n",
    "# and put them in one matrix\n",
    "T = np.concatenate((Ta, Tb))\n",
    "\n",
    "# numpy has a method for computing the pseudo-inverse directly,\n",
    "# so this way we don't need to type it out ourselves\n",
    "W = np.linalg.pinv(X) @ T\n",
    "\n",
    "# extract the weight vectors of y_0 and y_1\n",
    "w, v = W[:,0], W[:,1]\n",
    "\n",
    "# plot the decision boundary\n",
    "x = np.arange(-4, 4, 1)\n",
    "y = (w[0] - v[0] + x * (w[1] - v[1])) / (v[2] - w[2])\n",
    "ax.plot(x, y, color=\"black\")\n",
    "fig"
   ]
  },
  {
   "cell_type": "markdown",
   "metadata": {},
   "source": [
    "Nice! This seems to have worked very well. But let's see what happens if our data isn't that easy to separate by a linear function. Let's add a couple of outliers to the blue data set."
   ]
  },
  {
   "cell_type": "code",
   "execution_count": 196,
   "metadata": {},
   "outputs": [
    {
     "data": {
      "image/png": "[encoded data removed]",
      "text/plain": [
       "<matplotlib.figure.Figure at 0x7f0e82dff3c8>"
      ]
     },
     "execution_count": 196,
     "metadata": {},
     "output_type": "execute_result"
    }
   ],
   "source": [
    "# let us add some outliers\n",
    "num_outliers = 20\n",
    "\n",
    "meanC = np.array([-2, 1])\n",
    "varianceC = np.array([0.2, 0.2])\n",
    "samplesC = np.random.normal(meanC, varianceC, (num_outliers, 2))\n",
    "\n",
    "Xc = np.ones((num_outliers, 3))\n",
    "Xc[:,1:] = samplesC\n",
    "\n",
    "X = np.concatenate((Xa, Xc, Xb))\n",
    "Tc = np.tile([1,0], (num_outliers, 1))\n",
    "T = np.concatenate((Ta, Tc, Tb))\n",
    "\n",
    "W = np.linalg.pinv(X) @ T\n",
    "\n",
    "\n",
    "w, v = W[:,0], W[:,1]\n",
    "# w is the weight vector of y_A, v is the weight vector of y_B\n",
    "\n",
    "x = np.arange(-4, 4, 1)\n",
    "y = (w[0] - v[0] + x * (w[1] - v[1])) / (v[2] - w[2])\n",
    "\n",
    "ax.scatter([x for [x, y] in samplesC], [y for [x, y] in samplesC], marker=\"x\", color=\"b\")\n",
    "ax.plot(x, y, color=\"orange\")\n",
    "fig"
   ]
  },
  {
   "cell_type": "markdown",
   "metadata": {},
   "source": [
    "Hm. The black line, which is our old decision boundary, would still be a fine decision boundary, but our new decision boundary (orange) even misclassifies some of our data points. This shows us that the least-squares method is very sensitive to outliers."
   ]
  }
 ],
 "metadata": {
  "kernelspec": {
   "display_name": "Python 3",
   "language": "python",
   "name": "python3"
  },
  "language_info": {
   "codemirror_mode": {
    "name": "ipython",
    "version": 3
   },
   "file_extension": ".py",
   "mimetype": "text/x-python",
   "name": "python",
   "nbconvert_exporter": "python",
   "pygments_lexer": "ipython3",
   "version": "3.6.4"
  }
 },
 "nbformat": 4,
 "nbformat_minor": 2
}
